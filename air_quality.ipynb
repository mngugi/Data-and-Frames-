{
 "cells": [
  {
   "cell_type": "markdown",
   "id": "4b6b6c73-80d7-4c2a-9854-d6500cb69721",
   "metadata": {},
   "source": [
    "- to create new columns derived from existing columns"
   ]
  },
  {
   "cell_type": "code",
   "execution_count": null,
   "id": "3bf481c3-a47c-4bf0-953e-288ada2a4bf2",
   "metadata": {},
   "outputs": [],
   "source": [
    "import pandas as pd\n",
    "\n",
    "df = pd.read_csv(\"air_quality_no2.csv\")\n",
    "df.head()"
   ]
  }
 ],
 "metadata": {
  "kernelspec": {
   "display_name": "Python 3 (ipykernel)",
   "language": "python",
   "name": "python3"
  },
  "language_info": {
   "codemirror_mode": {
    "name": "ipython",
    "version": 3
   },
   "file_extension": ".py",
   "mimetype": "text/x-python",
   "name": "python",
   "nbconvert_exporter": "python",
   "pygments_lexer": "ipython3",
   "version": "3.13.5"
  }
 },
 "nbformat": 4,
 "nbformat_minor": 5
}
