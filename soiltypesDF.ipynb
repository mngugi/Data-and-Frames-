{
 "cells": [
  {
   "cell_type": "code",
   "execution_count": null,
   "id": "931a639d-4198-46e3-9308-0989655f6396",
   "metadata": {},
   "outputs": [],
   "source": [
    "# Creating a data frame for types of soils.\n",
    "# Mission i want to store data for soil types and their pH levels.\n",
    "# Example , Neutral sois, Acidic soils, and Alkaline soils. \n",
    "# in this case i shall use three types of soils. \n",
    "# Examples Sandy soils. clay soils and LoamSils.\n",
    "\n",
    "\n"
   ]
  }
 ],
 "metadata": {
  "kernelspec": {
   "display_name": "Python 3 (ipykernel)",
   "language": "python",
   "name": "python3"
  },
  "language_info": {
   "codemirror_mode": {
    "name": "ipython",
    "version": 3
   },
   "file_extension": ".py",
   "mimetype": "text/x-python",
   "name": "python",
   "nbconvert_exporter": "python",
   "pygments_lexer": "ipython3",
   "version": "3.13.5"
  }
 },
 "nbformat": 4,
 "nbformat_minor": 5
}
