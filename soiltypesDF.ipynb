{
 "cells": [
  {
   "cell_type": "markdown",
   "id": "e4ba427a-62c2-4fbf-92ac-5e5cc4b607f8",
   "metadata": {},
   "source": [
    "**Creating a data frame for types of soils.**\n",
    "**Mission i want to store data for soil types and their pH levels.**\n",
    " -  Example , Neutral sois, Acidic soils, and Alkaline soils. \n",
    " - in this case i shall use three types of soils. \n",
    " - Examples Sandy soils. clay soils and Loam soils.\n",
    "\n",
    "### Code: \n"
   ]
  },
  {
   "cell_type": "code",
   "execution_count": 40,
   "id": "31e79dfb-e047-4bba-bbbf-7399809c2e11",
   "metadata": {},
   "outputs": [],
   "source": [
    "import pandas as pd \n",
    "\n",
    "soilDataframe = pd.DataFrame(\n",
    "    {\n",
    "        \"soil pH Level\":[ \"Neutral Soil\",\n",
    "                          \"Acidic Soil\",\n",
    "                          \"Alkaline\"\n",
    "                             \n",
    "        ],\n",
    "\n",
    "        \"pH\":[(6.5, 7.5),6.0, 7.0\n",
    "            \n",
    "        ],\n",
    "        \n",
    "        \"Soil Types\": [\n",
    "            \"Sanday soil\", \n",
    "            \"Clay soil\",\n",
    "            \"Loam soil\"\n",
    "       ],\n",
    "        \n",
    "    }\n",
    ")"
   ]
  },
  {
   "cell_type": "code",
   "execution_count": 41,
   "id": "61cdf39b-fef7-4b6e-8cf2-802771487caf",
   "metadata": {},
   "outputs": [
    {
     "name": "stdout",
     "output_type": "stream",
     "text": [
      "  soil pH Level          pH   Soil Types\n",
      "0  Neutral Soil  (6.5, 7.5)  Sanday soil\n",
      "1   Acidic Soil         6.0    Clay soil\n",
      "2      Alkaline         7.0    Loam soil\n"
     ]
    }
   ],
   "source": [
    "print(soilDataframe)"
   ]
  },
  {
   "cell_type": "markdown",
   "id": "1bed3d2e-7b09-4093-a161-2c51eac2c69c",
   "metadata": {},
   "source": [
    "- Interested in working with ph column"
   ]
  },
  {
   "cell_type": "code",
   "execution_count": 42,
   "id": "2c88b364-fb0d-45ba-892f-48c3dfc841b6",
   "metadata": {},
   "outputs": [
    {
     "data": {
      "text/plain": [
       "0    (6.5, 7.5)\n",
       "1           6.0\n",
       "2           7.0\n",
       "Name: pH, dtype: object"
      ]
     },
     "execution_count": 42,
     "metadata": {},
     "output_type": "execute_result"
    }
   ],
   "source": [
    "soilDataframe[\"pH\"]"
   ]
  },
  {
   "cell_type": "markdown",
   "id": "9b53ae89-58a0-498f-867a-cc638e2ba17a",
   "metadata": {},
   "source": [
    "- getting the maximum pH\n",
    "- and max and min vlaues "
   ]
  },
  {
   "cell_type": "code",
   "execution_count": 48,
   "id": "fd9aef67-28d4-4489-941f-30fad2d340cf",
   "metadata": {},
   "outputs": [
    {
     "data": {
      "text/plain": [
       "0    6.0\n",
       "1    6.5\n",
       "2    7.0\n",
       "3    7.5\n",
       "Name: phs, dtype: float64"
      ]
     },
     "execution_count": 48,
     "metadata": {},
     "output_type": "execute_result"
    }
   ],
   "source": [
    "soilDataframe[soilDataframe['pH'].isin([6.0, 6.5, 7.0, 7.5])]\n",
    "phs"
   ]
  },
  {
   "cell_type": "code",
   "execution_count": 50,
   "id": "6bcd3ac6-1643-46ee-83a0-3fd05fa9e764",
   "metadata": {},
   "outputs": [
    {
     "name": "stdout",
     "output_type": "stream",
     "text": [
      "Index(['soil pH Level', 'pH', 'Soil Types'], dtype='object')\n"
     ]
    }
   ],
   "source": [
    "print(soilDataframe.columns)\n"
   ]
  },
  {
   "cell_type": "code",
   "execution_count": null,
   "id": "123847a8-d1fd-4937-95fa-addd72ff6e35",
   "metadata": {},
   "outputs": [],
   "source": [
    "\n"
   ]
  },
  {
   "cell_type": "code",
   "execution_count": null,
   "id": "11ccc709-4ffc-430c-8023-12fa7c9fada8",
   "metadata": {},
   "outputs": [],
   "source": []
  }
 ],
 "metadata": {
  "kernelspec": {
   "display_name": "Python 3 (ipykernel)",
   "language": "python",
   "name": "python3"
  },
  "language_info": {
   "codemirror_mode": {
    "name": "ipython",
    "version": 3
   },
   "file_extension": ".py",
   "mimetype": "text/x-python",
   "name": "python",
   "nbconvert_exporter": "python",
   "pygments_lexer": "ipython3",
   "version": "3.13.5"
  }
 },
 "nbformat": 4,
 "nbformat_minor": 5
}
