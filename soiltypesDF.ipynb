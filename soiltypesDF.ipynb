{
 "cells": [
  {
   "cell_type": "markdown",
   "id": "e4ba427a-62c2-4fbf-92ac-5e5cc4b607f8",
   "metadata": {},
   "source": [
    "**Creating a data frame for types of soils.**\n",
    "**Mission i want to store data for soil types and their pH levels.**\n",
    " -  Example , Neutral sois, Acidic soils, and Alkaline soils. \n",
    " - in this case i shall use three types of soils. \n",
    " - Examples Sandy soils. clay soils and Loam soils.\n",
    "\n",
    "### Code: \n"
   ]
  },
  {
   "cell_type": "code",
   "execution_count": 14,
   "id": "31e79dfb-e047-4bba-bbbf-7399809c2e11",
   "metadata": {},
   "outputs": [],
   "source": [
    "import pandas as pd \n",
    "\n",
    "soilDataframe = pd.DataFrame(\n",
    "    {\n",
    "        \"soil pH Level\":[ \"Neutral Soil\",\n",
    "                          \"Acidic Soil\",\n",
    "                          \"Alkaline\"\n",
    "                             \n",
    "        ],\n",
    "\n",
    "        \"pH\":[(6.5, 7.5), 6.5, 7.5\n",
    "            \n",
    "        ],\n",
    "        \n",
    "        \"Soil Types\": [\n",
    "            \"Sanday soil\", \n",
    "            \"Clay soil\",\n",
    "            \"Loam soil\"\n",
    "       ],\n",
    "        \n",
    "    }\n",
    ")"
   ]
  },
  {
   "cell_type": "code",
   "execution_count": 15,
   "id": "61cdf39b-fef7-4b6e-8cf2-802771487caf",
   "metadata": {},
   "outputs": [
    {
     "name": "stdout",
     "output_type": "stream",
     "text": [
      "  soil pH Level          pH   Soil Types\n",
      "0  Neutral Soil  (6.5, 7.5)  Sanday soil\n",
      "1   Acidic Soil         6.5    Clay soil\n",
      "2      Alkaline         7.5    Loam soil\n"
     ]
    }
   ],
   "source": [
    "print(soilDataframe)"
   ]
  },
  {
   "cell_type": "code",
   "execution_count": 16,
   "id": "2c88b364-fb0d-45ba-892f-48c3dfc841b6",
   "metadata": {},
   "outputs": [
    {
     "data": {
      "text/plain": [
       "0    (6.5, 7.5)\n",
       "1           6.5\n",
       "2           7.5\n",
       "Name: pH, dtype: object"
      ]
     },
     "execution_count": 16,
     "metadata": {},
     "output_type": "execute_result"
    }
   ],
   "source": [
    "\n",
    "soilDataframe[\"pH\"]"
   ]
  },
  {
   "cell_type": "code",
   "execution_count": null,
   "id": "0b75f1e5-4d76-41fc-b34c-fec07948f93f",
   "metadata": {},
   "outputs": [],
   "source": []
  }
 ],
 "metadata": {
  "kernelspec": {
   "display_name": "Python 3 (ipykernel)",
   "language": "python",
   "name": "python3"
  },
  "language_info": {
   "codemirror_mode": {
    "name": "ipython",
    "version": 3
   },
   "file_extension": ".py",
   "mimetype": "text/x-python",
   "name": "python",
   "nbconvert_exporter": "python",
   "pygments_lexer": "ipython3",
   "version": "3.13.5"
  }
 },
 "nbformat": 4,
 "nbformat_minor": 5
}
