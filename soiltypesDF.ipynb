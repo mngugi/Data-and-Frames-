{
 "cells": [
  {
   "cell_type": "markdown",
   "id": "e4ba427a-62c2-4fbf-92ac-5e5cc4b607f8",
   "metadata": {},
   "source": [
    "**Creating a data frame for types of soils.**\n",
    "**Mission i want to store data for soil types and their pH levels.**\n",
    " -  Example , Neutral sois, Acidic soils, and Alkaline soils. \n",
    " - in this case i shall use three types of soils. \n",
    " - Examples Sandy soils. clay soils and Loam soils.\n",
    "\n",
    "### Code: \n"
   ]
  },
  {
   "cell_type": "code",
   "execution_count": null,
   "id": "31e79dfb-e047-4bba-bbbf-7399809c2e11",
   "metadata": {},
   "outputs": [],
   "source": [
    "import pandas as pd \n",
    "\n",
    "soilDataframe = pd.DataFrame(\n",
    "    {\n",
    "        \"soil pH Level\":[ \"Neutral Soil\",\n",
    "                          \"Acidic Soil\",\n",
    "                          \"Alkaline\"\n",
    "                             \n",
    "        ],\n",
    "\n",
    "        \"pH\":[(6.5, 7.5),6.0, 7.0\n",
    "            \n",
    "        ],\n",
    "        \n",
    "        \"Soil Types\": [\n",
    "            \"Sanday soil\", \n",
    "            \"Clay soil\",\n",
    "            \"Loam soil\"\n",
    "       ],\n",
    "        \n",
    "    }\n",
    ")"
   ]
  },
  {
   "cell_type": "code",
   "execution_count": null,
   "id": "61cdf39b-fef7-4b6e-8cf2-802771487caf",
   "metadata": {},
   "outputs": [
    {
     "ename": "",
     "evalue": "",
     "output_type": "error",
     "traceback": [
      "\u001b[1;31mRunning cells with 'Python 3.14.0' requires the ipykernel package.\n",
      "\u001b[1;31m<a href='command:jupyter.createPythonEnvAndSelectController'>Create a Python Environment</a> with the required packages."
     ]
    }
   ],
   "source": [
    "print(soilDataframe)"
   ]
  },
  {
   "cell_type": "markdown",
   "id": "1bed3d2e-7b09-4093-a161-2c51eac2c69c",
   "metadata": {},
   "source": [
    "- Interested in working with ph column"
   ]
  },
  {
   "cell_type": "code",
   "execution_count": null,
   "id": "2c88b364-fb0d-45ba-892f-48c3dfc841b6",
   "metadata": {},
   "outputs": [
    {
     "data": {
      "text/plain": [
       "0    (6.5, 7.5)\n",
       "1           6.0\n",
       "2           7.0\n",
       "Name: pH, dtype: object"
      ]
     },
     "execution_count": 42,
     "metadata": {},
     "output_type": "execute_result"
    }
   ],
   "source": [
    "soilDataframe[\"pH\"]"
   ]
  },
  {
   "cell_type": "markdown",
   "id": "9b53ae89-58a0-498f-867a-cc638e2ba17a",
   "metadata": {},
   "source": [
    "- getting the maximum pH\n",
    "- and max and min vlaues "
   ]
  },
  {
   "cell_type": "code",
   "execution_count": null,
   "id": "fd9aef67-28d4-4489-941f-30fad2d340cf",
   "metadata": {},
   "outputs": [
    {
     "data": {
      "text/plain": [
       "0    6.0\n",
       "1    6.5\n",
       "2    7.0\n",
       "3    7.5\n",
       "Name: phs, dtype: float64"
      ]
     },
     "execution_count": 48,
     "metadata": {},
     "output_type": "execute_result"
    }
   ],
   "source": [
    "soilDataframe[soilDataframe['pH'].isin([6.0, 6.5, 7.0, 7.5])]\n",
    "phs"
   ]
  },
  {
   "cell_type": "code",
   "execution_count": null,
   "id": "6bcd3ac6-1643-46ee-83a0-3fd05fa9e764",
   "metadata": {},
   "outputs": [
    {
     "name": "stdout",
     "output_type": "stream",
     "text": [
      "Index(['soil pH Level', 'pH', 'Soil Types'], dtype='object')\n"
     ]
    }
   ],
   "source": [
    "print(soilDataframe.columns)\n"
   ]
  },
  {
   "cell_type": "markdown",
   "id": "adcb4e90-13e8-4c1e-bbfb-23e9ee8f4a02",
   "metadata": {},
   "source": [
    "- Basic discriptive statistics \n"
   ]
  },
  {
   "cell_type": "code",
   "execution_count": null,
   "id": "11ccc709-4ffc-430c-8023-12fa7c9fada8",
   "metadata": {},
   "outputs": [
    {
     "data": {
      "text/html": [
       "<div>\n",
       "<style scoped>\n",
       "    .dataframe tbody tr th:only-of-type {\n",
       "        vertical-align: middle;\n",
       "    }\n",
       "\n",
       "    .dataframe tbody tr th {\n",
       "        vertical-align: top;\n",
       "    }\n",
       "\n",
       "    .dataframe thead th {\n",
       "        text-align: right;\n",
       "    }\n",
       "</style>\n",
       "<table border=\"1\" class=\"dataframe\">\n",
       "  <thead>\n",
       "    <tr style=\"text-align: right;\">\n",
       "      <th></th>\n",
       "      <th>soil pH Level</th>\n",
       "      <th>pH</th>\n",
       "      <th>Soil Types</th>\n",
       "    </tr>\n",
       "  </thead>\n",
       "  <tbody>\n",
       "    <tr>\n",
       "      <th>count</th>\n",
       "      <td>3</td>\n",
       "      <td>3</td>\n",
       "      <td>3</td>\n",
       "    </tr>\n",
       "    <tr>\n",
       "      <th>unique</th>\n",
       "      <td>3</td>\n",
       "      <td>3</td>\n",
       "      <td>3</td>\n",
       "    </tr>\n",
       "    <tr>\n",
       "      <th>top</th>\n",
       "      <td>Neutral Soil</td>\n",
       "      <td>(6.5, 7.5)</td>\n",
       "      <td>Sanday soil</td>\n",
       "    </tr>\n",
       "    <tr>\n",
       "      <th>freq</th>\n",
       "      <td>1</td>\n",
       "      <td>1</td>\n",
       "      <td>1</td>\n",
       "    </tr>\n",
       "  </tbody>\n",
       "</table>\n",
       "</div>"
      ],
      "text/plain": [
       "       soil pH Level          pH   Soil Types\n",
       "count              3           3            3\n",
       "unique             3           3            3\n",
       "top     Neutral Soil  (6.5, 7.5)  Sanday soil\n",
       "freq               1           1            1"
      ]
     },
     "execution_count": 53,
     "metadata": {},
     "output_type": "execute_result"
    }
   ],
   "source": [
    "soilDataframe.describe()"
   ]
  },
  {
   "cell_type": "code",
   "execution_count": null,
   "id": "e710488a-3da7-4118-941f-7db1c2a3a3a1",
   "metadata": {},
   "outputs": [],
   "source": []
  }
 ],
 "metadata": {
  "kernelspec": {
   "display_name": "Julia 1.11.0-rc3",
   "language": "julia",
   "name": "julia-1.11"
  },
  "language_info": {
   "file_extension": ".jl",
   "mimetype": "application/julia",
   "name": "julia",
   "version": "1.11.0-rc3"
  }
 },
 "nbformat": 4,
 "nbformat_minor": 5
}
