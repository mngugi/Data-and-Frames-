{
 "cells": [
  {
   "cell_type": "markdown",
   "id": "e4ba427a-62c2-4fbf-92ac-5e5cc4b607f8",
   "metadata": {},
   "source": [
    "**Creating a data frame for types of soils.**\n",
    "**Mission i want to store data for soil types and their pH levels.**\n",
    " -  Example , Neutral sois, Acidic soils, and Alkaline soils. \n",
    " - in this case i shall use three types of soils. \n",
    " - Examples Sandy soils. clay soils and Loam soils.\n",
    "\n",
    "### Code: \n"
   ]
  },
  {
   "cell_type": "code",
   "execution_count": null,
   "id": "31e79dfb-e047-4bba-bbbf-7399809c2e11",
   "metadata": {},
   "outputs": [
    {
     "ename": "ModuleNotFoundError",
     "evalue": "No module named 'pandas'",
     "output_type": "error",
     "traceback": [
      "\u001b[31m---------------------------------------------------------------------------\u001b[39m",
      "\u001b[31mModuleNotFoundError\u001b[39m                       Traceback (most recent call last)",
      "\u001b[36mCell\u001b[39m\u001b[36m \u001b[39m\u001b[32mIn[2]\u001b[39m\u001b[32m, line 1\u001b[39m\n\u001b[32m----> \u001b[39m\u001b[32m1\u001b[39m \u001b[38;5;28;01mimport\u001b[39;00m\u001b[38;5;250m \u001b[39m\u001b[34;01mpandas\u001b[39;00m\u001b[38;5;250m \u001b[39m\u001b[38;5;28;01mas\u001b[39;00m\u001b[38;5;250m \u001b[39m\u001b[34;01mpd\u001b[39;00m\n\u001b[32m      3\u001b[39m soilDataframe = pd.DataFrame(\n\u001b[32m      4\u001b[39m     {\n\u001b[32m      5\u001b[39m         \u001b[33m\"\u001b[39m\u001b[33msoil pH Level\u001b[39m\u001b[33m\"\u001b[39m: [\u001b[33m\"\u001b[39m\u001b[33mNeutral Soil\u001b[39m\u001b[33m\"\u001b[39m, \u001b[33m\"\u001b[39m\u001b[33mAcidic Soil\u001b[39m\u001b[33m\"\u001b[39m, \u001b[33m\"\u001b[39m\u001b[33mAlkaline Soil\u001b[39m\u001b[33m\"\u001b[39m],\n\u001b[32m   (...)\u001b[39m\u001b[32m      9\u001b[39m     }\n\u001b[32m     10\u001b[39m )\n",
      "\u001b[31mModuleNotFoundError\u001b[39m: No module named 'pandas'"
     ]
    }
   ],
   "source": [
    "%pip install pandas\n",
    "import pandas as pd\n",
    "\n",
    "soilDataframe = pd.DataFrame(\n",
    "    {\n",
    "        \"soil pH Level\": [\"Neutral Soil\", \"Acidic Soil\", \"Alkaline Soil\"],\n",
    "        \"pH_min\": [6.5, 0.0, 7.1],\n",
    "        \"pH_max\": [7.5, 6.4, 14.0],\n",
    "        \"Soil Types\": [\"Sandy soil\", \"Clay soil\", \"Loam soil\"],\n",
    "    }\n",
    ")"
   ]
  },
  {
   "cell_type": "code",
   "execution_count": null,
   "id": "ffc66b3d",
   "metadata": {},
   "outputs": [
    {
     "ename": "",
     "evalue": "",
     "output_type": "error",
     "traceback": [
      "\u001b[1;31mRunning cells with 'Python 3.14.0' requires the ipykernel package.\n",
      "\u001b[1;31mInstall 'ipykernel' into the Python environment. \n",
      "\u001b[1;31mCommand: '/bin/python3.14 -m pip install ipykernel -U --user --force-reinstall'"
     ]
    }
   ],
   "source": [
    "%pip install pandas"
   ]
  },
  {
   "cell_type": "code",
   "execution_count": null,
   "id": "61cdf39b-fef7-4b6e-8cf2-802771487caf",
   "metadata": {},
   "outputs": [
    {
     "ename": "UndefVarError",
     "evalue": "UndefVarError: `soilDataframe` not defined in `Main`\nSuggestion: check for spelling errors or missing imports.",
     "output_type": "error",
     "traceback": [
      "UndefVarError: `soilDataframe` not defined in `Main`\n",
      "Suggestion: check for spelling errors or missing imports.\n",
      "\n",
      "Stacktrace:\n",
      " [1] top-level scope\n",
      "   @ ~/Documents/GitHub/Data-and-Frames-/jl_notebook_cell_df34fa98e69747e1a8f8a730347b8e2f_W2sZmlsZQ==.jl:1"
     ]
    }
   ],
   "source": [
    "print(soilDataframe)"
   ]
  },
  {
   "cell_type": "markdown",
   "id": "1bed3d2e-7b09-4093-a161-2c51eac2c69c",
   "metadata": {},
   "source": [
    "- Interested in working with ph column"
   ]
  },
  {
   "cell_type": "code",
   "execution_count": null,
   "id": "2c88b364-fb0d-45ba-892f-48c3dfc841b6",
   "metadata": {},
   "outputs": [
    {
     "ename": "UndefVarError",
     "evalue": "UndefVarError: `soilDataframe` not defined in `Main`\nSuggestion: check for spelling errors or missing imports.",
     "output_type": "error",
     "traceback": [
      "UndefVarError: `soilDataframe` not defined in `Main`\n",
      "Suggestion: check for spelling errors or missing imports.\n",
      "\n",
      "Stacktrace:\n",
      " [1] top-level scope\n",
      "   @ ~/Documents/GitHub/Data-and-Frames-/jl_notebook_cell_df34fa98e69747e1a8f8a730347b8e2f_W4sZmlsZQ==.jl:1"
     ]
    }
   ],
   "source": [
    "soilDataframe[\"pH\"]"
   ]
  },
  {
   "cell_type": "markdown",
   "id": "9b53ae89-58a0-498f-867a-cc638e2ba17a",
   "metadata": {},
   "source": [
    "- getting the maximum pH\n",
    "- and max and min vlaues "
   ]
  },
  {
   "cell_type": "code",
   "execution_count": null,
   "id": "fd9aef67-28d4-4489-941f-30fad2d340cf",
   "metadata": {},
   "outputs": [
    {
     "ename": "Base.Meta.ParseError",
     "evalue": "ParseError:\n# Error @ /home/alma42/Documents/GitHub/Data-and-Frames-/jl_notebook_cell_df34fa98e69747e1a8f8a730347b8e2f_W6sZmlsZQ==.jl:1:30\nsoilDataframe[soilDataframe['pH'].isin([6.0, 6.5, 7.0, 7.5])]\n#                            └┘ ── character literal contains multiple characters",
     "output_type": "error",
     "traceback": [
      "ParseError:\n",
      "# Error @ /home/alma42/Documents/GitHub/Data-and-Frames-/jl_notebook_cell_df34fa98e69747e1a8f8a730347b8e2f_W6sZmlsZQ==.jl:1:30\n",
      "soilDataframe[soilDataframe['pH'].isin([6.0, 6.5, 7.0, 7.5])]\n",
      "#                            └┘ ── character literal contains multiple characters\n",
      "\n",
      "Stacktrace:\n",
      " [1] top-level scope\n",
      "   @ ~/Documents/GitHub/Data-and-Frames-/jl_notebook_cell_df34fa98e69747e1a8f8a730347b8e2f_W6sZmlsZQ==.jl:1"
     ]
    }
   ],
   "source": [
    "soilDataframe[soilDataframe['pH'].isin([6.0, 6.5, 7.0, 7.5])]\n",
    "phs"
   ]
  },
  {
   "cell_type": "code",
   "execution_count": null,
   "id": "6bcd3ac6-1643-46ee-83a0-3fd05fa9e764",
   "metadata": {},
   "outputs": [
    {
     "ename": "UndefVarError",
     "evalue": "UndefVarError: `soilDataframe` not defined in `Main`\nSuggestion: check for spelling errors or missing imports.",
     "output_type": "error",
     "traceback": [
      "UndefVarError: `soilDataframe` not defined in `Main`\n",
      "Suggestion: check for spelling errors or missing imports.\n",
      "\n",
      "Stacktrace:\n",
      " [1] top-level scope\n",
      "   @ ~/Documents/GitHub/Data-and-Frames-/jl_notebook_cell_df34fa98e69747e1a8f8a730347b8e2f_X10sZmlsZQ==.jl:1"
     ]
    }
   ],
   "source": [
    "print(soilDataframe.columns)\n"
   ]
  },
  {
   "cell_type": "markdown",
   "id": "adcb4e90-13e8-4c1e-bbfb-23e9ee8f4a02",
   "metadata": {},
   "source": [
    "- Basic discriptive statistics \n"
   ]
  },
  {
   "cell_type": "code",
   "execution_count": null,
   "id": "11ccc709-4ffc-430c-8023-12fa7c9fada8",
   "metadata": {},
   "outputs": [
    {
     "ename": "UndefVarError",
     "evalue": "UndefVarError: `soilDataframe` not defined in `Main`\nSuggestion: check for spelling errors or missing imports.",
     "output_type": "error",
     "traceback": [
      "UndefVarError: `soilDataframe` not defined in `Main`\n",
      "Suggestion: check for spelling errors or missing imports.\n",
      "\n",
      "Stacktrace:\n",
      " [1] top-level scope\n",
      "   @ ~/Documents/GitHub/Data-and-Frames-/jl_notebook_cell_df34fa98e69747e1a8f8a730347b8e2f_X12sZmlsZQ==.jl:1"
     ]
    }
   ],
   "source": [
    "soilDataframe.describe()"
   ]
  },
  {
   "cell_type": "code",
   "execution_count": null,
   "id": "e710488a-3da7-4118-941f-7db1c2a3a3a1",
   "metadata": {},
   "outputs": [],
   "source": []
  }
 ],
 "metadata": {
  "kernelspec": {
   "display_name": "Python 3 (ipykernel)",
   "language": "python",
   "name": "python3"
  },
  "language_info": {
   "codemirror_mode": {
    "name": "ipython",
    "version": 3
   },
   "file_extension": ".py",
   "mimetype": "text/x-python",
   "name": "python",
   "nbconvert_exporter": "python",
   "pygments_lexer": "ipython3",
   "version": "3.13.5"
  }
 },
 "nbformat": 4,
 "nbformat_minor": 5
}
