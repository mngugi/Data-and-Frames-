{
 "cells": [
  {
   "cell_type": "markdown",
   "id": "39b8c3ea-4547-473a-8a65-186a47513b6c",
   "metadata": {},
   "source": [
    "- Selecting specific columns.\n",
    "- from data_core table."
   ]
  },
  {
   "cell_type": "markdown",
   "id": "705724b5-91bb-4c08-8d68-5206ee99f95d",
   "metadata": {},
   "source": [
    "import pandas as pd\n",
    "df = pd.read_csv('data_core.csv')\n",
    "df"
   ]
  },
  {
   "cell_type": "markdown",
   "id": "9007a336-b6e6-447d-9d0d-688d98bea48e",
   "metadata": {},
   "source": [
    "- Selecting humidity column"
   ]
  },
  {
   "cell_type": "code",
   "execution_count": 4,
   "id": "2e06d6d9-7106-4774-8656-77914006d117",
   "metadata": {},
   "outputs": [
    {
     "data": {
      "text/plain": [
       "0    52.0\n",
       "1    52.0\n",
       "2    65.0\n",
       "3    62.0\n",
       "4    54.0\n",
       "Name: Humidity, dtype: float64"
      ]
     },
     "execution_count": 4,
     "metadata": {},
     "output_type": "execute_result"
    }
   ],
   "source": [
    "hum = df['Humidity']\n",
    "hum.head()"
   ]
  },
  {
   "cell_type": "markdown",
   "id": "176ec60d-5a1a-4dcd-9173-8c3f024a191a",
   "metadata": {},
   "source": [
    "- i want to have a look at Temparature,Humidity,Moisture,Soil Type"
   ]
  },
  {
   "cell_type": "code",
   "execution_count": null,
   "id": "3e1b2d9e-9c26-4460-958b-ff0d3d36c580",
   "metadata": {},
   "outputs": [],
   "source": [
    "firstThree = df[[[\"Temparature\",\"Humidity\",\"Moisture\",\"Soil Type\"]]]"
   ]
  }
 ],
 "metadata": {
  "kernelspec": {
   "display_name": "Python 3 (ipykernel)",
   "language": "python",
   "name": "python3"
  },
  "language_info": {
   "codemirror_mode": {
    "name": "ipython",
    "version": 3
   },
   "file_extension": ".py",
   "mimetype": "text/x-python",
   "name": "python",
   "nbconvert_exporter": "python",
   "pygments_lexer": "ipython3",
   "version": "3.13.5"
  }
 },
 "nbformat": 4,
 "nbformat_minor": 5
}
