{
 "cells": [
  {
   "cell_type": "markdown",
   "id": "9464fd85-d493-4b99-beff-3a9e89ae5bb0",
   "metadata": {},
   "source": [
    "**Crop Soil Data set**\n",
    "- using pandas read_csv() function to read the file."
   ]
  },
  {
   "cell_type": "code",
   "execution_count": null,
   "id": "ff793c24-50f7-432c-be7a-2db325aaf861",
   "metadata": {},
   "outputs": [],
   "source": [
    "import pandas as pd\n",
    "\n",
    "cropSoil = pd.read_csv(\"data_core.csv\")\n",
    "cropSoil"
   ]
  }
 ],
 "metadata": {
  "kernelspec": {
   "display_name": "Python 3 (ipykernel)",
   "language": "python",
   "name": "python3"
  },
  "language_info": {
   "codemirror_mode": {
    "name": "ipython",
    "version": 3
   },
   "file_extension": ".py",
   "mimetype": "text/x-python",
   "name": "python",
   "nbconvert_exporter": "python",
   "pygments_lexer": "ipython3",
   "version": "3.13.5"
  }
 },
 "nbformat": 4,
 "nbformat_minor": 5
}
